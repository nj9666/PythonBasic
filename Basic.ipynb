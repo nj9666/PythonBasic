{
  "nbformat": 4,
  "nbformat_minor": 0,
  "metadata": {
    "colab": {
      "name": "13_NitinPaladiya_Assignment1.ipynb",
      "provenance": [],
      "collapsed_sections": [],
      "authorship_tag": "ABX9TyPHvFJu9rMWQvX20a9YRK5s",
      "include_colab_link": true
    },
    "kernelspec": {
      "name": "python3",
      "display_name": "Python 3"
    }
  },
  "cells": [
    {
      "cell_type": "markdown",
      "metadata": {
        "id": "view-in-github",
        "colab_type": "text"
      },
      "source": [
        "<a href=\"https://colab.research.google.com/github/nj9666/PythonBasic/blob/main/Basic.ipynb\" target=\"_parent\"><img src=\"https://colab.research.google.com/assets/colab-badge.svg\" alt=\"Open In Colab\"/></a>"
      ]
    },
    {
      "cell_type": "markdown",
      "metadata": {
        "id": "-9i4uRA5JukR"
      },
      "source": [
        "Python Assignment :-\n",
        "  1. Given a two"
      ]
    },
    {
      "cell_type": "code",
      "metadata": {
        "id": "d87YG_qHKC0f",
        "outputId": "373380eb-9e7a-4080-9bb3-5e6dd78de2ea",
        "colab": {
          "base_uri": "https://localhost:8080/"
        }
      },
      "source": [
        "num1 = int(input(\"Enter the  First Number :- \"))\n",
        "num2 = int(input(\"Enter the  second Number :- \"))\n",
        "\n",
        "def producr_or_sum(n1,n2):\n",
        "  num = n1*n2\n",
        "  if(num<1000):\n",
        "    return num\n",
        "  else:\n",
        "    return n1+n2\n",
        "result = producr_or_sum(num1,num2)\n",
        "print(\"Result :-\",result)"
      ],
      "execution_count": null,
      "outputs": [
        {
          "output_type": "stream",
          "text": [
            "Enter the  First Number :- 5\n",
            "Enter the  second Number :- 5\n",
            "Result :- 25\n"
          ],
          "name": "stdout"
        }
      ]
    },
    {
      "cell_type": "markdown",
      "metadata": {
        "id": "W8L81rbWMiX4"
      },
      "source": [
        "@. Given"
      ]
    },
    {
      "cell_type": "code",
      "metadata": {
        "id": "6PJUjKDMMk52",
        "outputId": "52b41215-c623-4542-bbfc-6661f4dc53e0",
        "colab": {
          "base_uri": "https://localhost:8080/"
        }
      },
      "source": [
        "def Sum(number):\n",
        "    previousnum=0\n",
        "    for i in range(number):\n",
        "      sum = previousnum+i\n",
        "      print(\"Current Numbrer\", i ,\"Previous Number\", previousnum , \" Sum : \",sum)\n",
        "      previousnum = i\n",
        "\n",
        "print(\"sum\")\n",
        "Sum(10)"
      ],
      "execution_count": null,
      "outputs": [
        {
          "output_type": "stream",
          "text": [
            "sum\n",
            "Current Numbrer 0 Previous Number 0  Sum :  0\n",
            "Current Numbrer 1 Previous Number 0  Sum :  1\n",
            "Current Numbrer 2 Previous Number 1  Sum :  3\n",
            "Current Numbrer 3 Previous Number 2  Sum :  5\n",
            "Current Numbrer 4 Previous Number 3  Sum :  7\n",
            "Current Numbrer 5 Previous Number 4  Sum :  9\n",
            "Current Numbrer 6 Previous Number 5  Sum :  11\n",
            "Current Numbrer 7 Previous Number 6  Sum :  13\n",
            "Current Numbrer 8 Previous Number 7  Sum :  15\n",
            "Current Numbrer 9 Previous Number 8  Sum :  17\n"
          ],
          "name": "stdout"
        }
      ]
    },
    {
      "cell_type": "markdown",
      "metadata": {
        "id": "zEXbBmQ4N8oW"
      },
      "source": [
        "3 given\n"
      ]
    },
    {
      "cell_type": "code",
      "metadata": {
        "id": "bHOBgMUBN-ts",
        "outputId": "b8295e47-b491-4ca7-e2e6-c49d758e62ee",
        "colab": {
          "base_uri": "https://localhost:8080/"
        }
      },
      "source": [
        "string = (input(\"Enter the String :- \\n\"))\n",
        "even_str=string[::2]\n",
        "print(even_str)"
      ],
      "execution_count": null,
      "outputs": [
        {
          "output_type": "stream",
          "text": [
            "Enter the String :- \n",
            "nitin\n",
            "ntn\n"
          ],
          "name": "stdout"
        }
      ]
    },
    {
      "cell_type": "markdown",
      "metadata": {
        "id": "1ol07sFxOtpC"
      },
      "source": [
        "4 . givern"
      ]
    },
    {
      "cell_type": "code",
      "metadata": {
        "id": "RPAJP1kGRj6Y",
        "outputId": "35796a61-6939-4397-e26e-bc302b389035",
        "colab": {
          "base_uri": "https://localhost:8080/"
        }
      },
      "source": [
        "text= '      10 20   ,   30 40 50'\n",
        "\n",
        "# splits at space\n",
        "print(list(map(int,input(\"\\n Enter the number : \").strip().split()))[-3])\n",
        "print(text.strip().split(','))\n"
      ],
      "execution_count": null,
      "outputs": [
        {
          "output_type": "stream",
          "text": [
            "\n",
            " Enter the number : 10 20 30 40 50 60 70 80\n",
            "60\n",
            "['10 20   ', '   30 40 50']\n"
          ],
          "name": "stdout"
        }
      ]
    },
    {
      "cell_type": "code",
      "metadata": {
        "id": "P4D0wgf2Ovya",
        "outputId": "75ed5a7f-f2a0-49d7-b3e5-86ad7f608f17",
        "colab": {
          "base_uri": "https://localhost:8080/"
        }
      },
      "source": [
        "num = int(input(\"Enter Nmber of element : \"))\n",
        "a = list(map(int,input(\"\\n Enter the number : \").strip().split()))[:num]\n",
        "\n",
        "print(\"\\n List is - \",a)\n",
        "\n",
        "def first_last():\n",
        "  firstnum = a[0]\n",
        "  lastnum = a[-1]\n",
        "  if (firstnum==lastnum):\n",
        "    true = True\n",
        "    return true\n",
        "  else:\n",
        "    return False\n",
        "\n",
        "print(\"Res :-\", first_last())\n"
      ],
      "execution_count": null,
      "outputs": [
        {
          "output_type": "stream",
          "text": [
            "Enter Nmber of element : 4\n",
            "\n",
            " Enter the number : 1 2 1\n",
            "\n",
            " List is -  ['1', '2', '1']\n",
            "Res :- True\n"
          ],
          "name": "stdout"
        }
      ]
    },
    {
      "cell_type": "markdown",
      "metadata": {
        "id": "grgVicJoazm8"
      },
      "source": [
        "5. giveb\n"
      ]
    },
    {
      "cell_type": "code",
      "metadata": {
        "id": "uZcrGZrFa2LF",
        "outputId": "dfaa098d-d917-4c2e-cf10-7b5816f30240",
        "colab": {
          "base_uri": "https://localhost:8080/"
        }
      },
      "source": [
        "a1=[10,20,30,40,50,60]\n",
        "a2=[100,200,300,400,500,600]\n",
        "list3 = list()\n",
        "oddel = a1[1::2]\n",
        "print(\"element at odd in list one\")\n",
        "print(oddel)\n",
        "evenel = a2[::2]\n",
        "print(\"element at even in list two\")\n",
        "print(evenel)\n",
        "\n",
        "print(\"Final List\")\n",
        "list3.extend(oddel)\n",
        "list3.extend(evenel)\n",
        "print(list3)"
      ],
      "execution_count": null,
      "outputs": [
        {
          "output_type": "stream",
          "text": [
            "element at odd in list one\n",
            "[20, 40, 60]\n",
            "element at even in list two\n",
            "[100, 300, 500]\n",
            "Final List\n",
            "[20, 40, 60, 100, 300, 500]\n"
          ],
          "name": "stdout"
        }
      ]
    },
    {
      "cell_type": "markdown",
      "metadata": {
        "id": "E1X87nj1cOT8"
      },
      "source": [
        "6. given\n"
      ]
    },
    {
      "cell_type": "code",
      "metadata": {
        "id": "lENKPgB4cQKL",
        "outputId": "547574fe-5cea-44b3-e0a0-a87cd478c820",
        "colab": {
          "base_uri": "https://localhost:8080/"
        }
      },
      "source": [
        "# from goto import goto, label\n",
        "# label .home\n",
        "numberList = []\n",
        "n = int(input(\"Enter the list size more then 5 : \"))\n",
        "# if(n < 5):\n",
        "#     goto .home\n",
        "\n",
        "print(\"\\n\")\n",
        "for i in range(0, n):\n",
        "    print(\"Enter number at location\", i, \":\")\n",
        "    item = int(input())\n",
        "    numberList.append(item)\n",
        "print(\"User List is :- \\n\", numberList)\n",
        "\n",
        "#removing element at index 4\n",
        "element=numberList.pop(4)\n",
        "print(\"Updated User List is :- \\n\", numberList)\n",
        "\n",
        "#adding element to the 2nd position\n",
        "numberList.insert(2, element)\n",
        "print(\"List after Adding element at index 2 :- \\n\", numberList)\n",
        "\n",
        "#adding element at the end of the list\n",
        "numberList.append(element)\n",
        "print(\"List after Adding element at last :- \", numberList)"
      ],
      "execution_count": null,
      "outputs": [
        {
          "output_type": "stream",
          "text": [
            "Enter the list size more then 5 : 5\n",
            "\n",
            "\n",
            "Enter number at location 0 :\n",
            "1\n",
            "Enter number at location 1 :\n",
            "2\n",
            "Enter number at location 2 :\n",
            "3\n",
            "Enter number at location 3 :\n",
            "4\n",
            "Enter number at location 4 :\n",
            "5\n",
            "User List is :- \n",
            " [1, 2, 3, 4, 5]\n",
            "Updated User List is :- \n",
            " [1, 2, 3, 4]\n",
            "List after Adding element at index 2 :- \n",
            " [1, 2, 5, 3, 4]\n",
            "List after Adding element at last :-  [1, 2, 5, 3, 4, 5]\n"
          ],
          "name": "stdout"
        }
      ]
    },
    {
      "cell_type": "markdown",
      "metadata": {
        "id": "IGDUwgIre-qW"
      },
      "source": [
        "7. given"
      ]
    },
    {
      "cell_type": "code",
      "metadata": {
        "id": "hTl_d5YjfAmy",
        "outputId": "ed1f0379-858a-4572-fa15-3f50cd313d96",
        "colab": {
          "base_uri": "https://localhost:8080/"
        }
      },
      "source": [
        "numberList = [1,2,3,4,5,6,7,8,9]\n",
        "print(\"Original List is :- \\n\", numberList)\n",
        "\n",
        "length = len(numberList)\n",
        "if(length%3 != 0):\n",
        "  print(\"Plz Enter the list size that is divisible by three\")\n",
        "else:\n",
        "  chunkSize  = int(length/3)\n",
        "  start = 0\n",
        "  end = chunkSize\n",
        "  for i in range(1, 4, 1):\n",
        "    indexes = slice(start, end, 1)\n",
        "    listChunk = numberList[indexes]\n",
        "    print(\"Chunk \", i ,\":- \", listChunk)\n",
        "    print(\"After reversing it :- \", list(reversed(listChunk)))\n",
        "    start = end\n",
        "    if(i != 2):\n",
        "      end +=chunkSize\n",
        "    else:\n",
        "      end += length - chunkSize"
      ],
      "execution_count": null,
      "outputs": [
        {
          "output_type": "stream",
          "text": [
            "Original List is :- \n",
            " [1, 2, 3, 4, 5, 6, 7, 8, 9]\n",
            "0\n",
            "Chunk  1 :-  [1, 2, 3]\n",
            "After reversing it :-  [3, 2, 1]\n",
            "Chunk  2 :-  [4, 5, 6]\n",
            "After reversing it :-  [6, 5, 4]\n",
            "Chunk  3 :-  [7, 8, 9]\n",
            "After reversing it :-  [9, 8, 7]\n"
          ],
          "name": "stdout"
        }
      ]
    },
    {
      "cell_type": "markdown",
      "metadata": {
        "id": "8GlBkB56g70T"
      },
      "source": [
        "8. given"
      ]
    },
    {
      "cell_type": "code",
      "metadata": {
        "id": "2DStyEzyg9-M",
        "outputId": "2b3519e4-fec0-4826-dfa9-731de65d76c0",
        "colab": {
          "base_uri": "https://localhost:8080/"
        }
      },
      "source": [
        "numList = [2,4,6,3,4,5,6,8,1,2,5,2,4,2]\n",
        "print(\"Original list \", numList)\n",
        "\n",
        "countDict = dict()\n",
        "for item in numList:\n",
        "  if (item in countDict):\n",
        "    countDict[item] += 1\n",
        "  else:\n",
        "    countDict[item] = 1\n",
        "  \n",
        "print(\"Printing count of each item  \",countDict)"
      ],
      "execution_count": null,
      "outputs": [
        {
          "output_type": "stream",
          "text": [
            "Original list  [2, 4, 6, 3, 4, 5, 6, 8, 1, 2, 5, 2, 4, 2]\n",
            "Printing count of each item   {2: 4, 4: 3, 6: 2, 3: 1, 5: 2, 8: 1, 1: 1}\n"
          ],
          "name": "stdout"
        }
      ]
    },
    {
      "cell_type": "markdown",
      "metadata": {
        "id": "ka2GPEd7ht5p"
      },
      "source": [
        "9."
      ]
    },
    {
      "cell_type": "code",
      "metadata": {
        "id": "Gxlpj6YUifHd",
        "outputId": "75a56eb4-ac53-46fc-94bd-8d8a6a0cb91f",
        "colab": {
          "base_uri": "https://localhost:8080/"
        }
      },
      "source": [
        "colorset={'yellow','orange'}\n",
        "colorlist=['blue','black']\n",
        "colorset.update(colorlist)\n",
        "print(colorset)"
      ],
      "execution_count": null,
      "outputs": [
        {
          "output_type": "stream",
          "text": [
            "{'orange', 'blue', 'yellow', 'black'}\n"
          ],
          "name": "stdout"
        }
      ]
    },
    {
      "cell_type": "markdown",
      "metadata": {
        "id": "UQrXZ_EOiily"
      },
      "source": [
        "10."
      ]
    },
    {
      "cell_type": "code",
      "metadata": {
        "id": "L1Gp_L1zij8J",
        "outputId": "49c30869-0f64-4f76-e3b0-197cec9b7aba",
        "colab": {
          "base_uri": "https://localhost:8080/"
        }
      },
      "source": [
        "rows = 5\n",
        "for row in range(1, rows+1):\n",
        "  for column in range(1, row + 1):\n",
        "    print(column, end=' ')\n",
        "  print(\"\")"
      ],
      "execution_count": null,
      "outputs": [
        {
          "output_type": "stream",
          "text": [
            "1 \n",
            "1 2 \n",
            "1 2 3 \n",
            "1 2 3 4 \n",
            "1 2 3 4 5 \n"
          ],
          "name": "stdout"
        }
      ]
    },
    {
      "cell_type": "markdown",
      "metadata": {
        "id": "mmbVu0x4ivWZ"
      },
      "source": [
        "12. given"
      ]
    },
    {
      "cell_type": "code",
      "metadata": {
        "id": "UuQ0T6Kti32q",
        "outputId": "69822678-126b-4e41-d544-2f5ff028fe4d",
        "colab": {
          "base_uri": "https://localhost:8080/"
        }
      },
      "source": [
        "num = int(input(\"Enter the number :-\"))\n",
        "sum = 0\n",
        "for i in range(2,num):\n",
        "  sum += i\n",
        "print(sum)"
      ],
      "execution_count": null,
      "outputs": [
        {
          "output_type": "stream",
          "text": [
            "Enter the number :-5\n",
            "9\n"
          ],
          "name": "stdout"
        }
      ]
    },
    {
      "cell_type": "markdown",
      "metadata": {
        "id": "9T8kRwCgkeRT"
      },
      "source": [
        "13.\n"
      ]
    },
    {
      "cell_type": "code",
      "metadata": {
        "id": "VfnfDZCwkfbz",
        "outputId": "662c7576-e619-4d1f-cd10-acac8bcb73c8",
        "colab": {
          "base_uri": "https://localhost:8080/"
        }
      },
      "source": [
        "\"\"\"\n",
        "list1 = []\n",
        "n = int(input(\"Enter the list size : \"))\n",
        "\n",
        "print(\"\\n\")\n",
        "for i in range(0, n):\n",
        "print(\"Enter number at location\", i, \":\")\n",
        "item = int(input())\n",
        "numberList.append(item)\n",
        "print(\"User List is :- \\n\", list18)\n",
        "\"\"\"\n",
        "list1=[20,15,45,20,36,47,100,125,140,148,150,165,151,180,5]\n",
        "list1.sort()\n",
        "\n",
        "for item in list1:\n",
        "  if (item > 150):\n",
        "    break\n",
        "  if(item % 5 == 0):\n",
        "    print(item)"
      ],
      "execution_count": null,
      "outputs": [
        {
          "output_type": "stream",
          "text": [
            "5\n",
            "15\n",
            "20\n",
            "20\n",
            "45\n",
            "100\n",
            "125\n",
            "140\n",
            "150\n"
          ],
          "name": "stdout"
        }
      ]
    },
    {
      "cell_type": "markdown",
      "metadata": {
        "id": "OgKg54krluMJ"
      },
      "source": [
        "14"
      ]
    },
    {
      "cell_type": "code",
      "metadata": {
        "id": "aIwqtFJnlwC6",
        "outputId": "3a5a706f-f4f2-4b78-8246-d833fc088503",
        "colab": {
          "base_uri": "https://localhost:8080/"
        }
      },
      "source": [
        "\n",
        "list1=[10,20,30,40]\n",
        "list2 = list()\n",
        "for i in range(0,len(list1)):\n",
        "  list2.append(list1[-i-1])\n",
        "\n",
        "print(list2)"
      ],
      "execution_count": null,
      "outputs": [
        {
          "output_type": "stream",
          "text": [
            "[40, 30, 20, 10]\n"
          ],
          "name": "stdout"
        }
      ]
    },
    {
      "cell_type": "markdown",
      "metadata": {
        "id": "WZWLL0Udp24b"
      },
      "source": [
        "15.\n"
      ]
    },
    {
      "cell_type": "code",
      "metadata": {
        "id": "_-m0uOz0p38g",
        "outputId": "063180dd-a008-408d-dcf8-053dc145070d",
        "colab": {
          "base_uri": "https://localhost:8080/"
        }
      },
      "source": [
        "num1 = int(input(\"Enter the lower number :- \"))\n",
        "num2 = int(input(\"Enter the Upper number :- \"))\n",
        "\n",
        "print(\"Prime numbers between\", num1, \"and\", num2, \"are :-\")\n",
        "\n",
        "for num in range(num1, num2 + 1):\n",
        "# all prime numbers are greater than 1\n",
        "  if num > 1:\n",
        "    for i in range(2, num):\n",
        "      if (num % i) == 0:\n",
        "        break\n",
        "    else:\n",
        "      print(num)"
      ],
      "execution_count": null,
      "outputs": [
        {
          "output_type": "stream",
          "text": [
            "Enter the lower number :- 1\n",
            "Enter the Upper number :- 200\n",
            "Prime numbers between 1 and 200 are :-\n",
            "2\n",
            "3\n",
            "5\n",
            "7\n",
            "11\n",
            "13\n",
            "17\n",
            "19\n",
            "23\n",
            "29\n",
            "31\n",
            "37\n",
            "41\n",
            "43\n",
            "47\n",
            "53\n",
            "59\n",
            "61\n",
            "67\n",
            "71\n",
            "73\n",
            "79\n",
            "83\n",
            "89\n",
            "97\n",
            "101\n",
            "103\n",
            "107\n",
            "109\n",
            "113\n",
            "127\n",
            "131\n",
            "137\n",
            "139\n",
            "149\n",
            "151\n",
            "157\n",
            "163\n",
            "167\n",
            "173\n",
            "179\n",
            "181\n",
            "191\n",
            "193\n",
            "197\n",
            "199\n"
          ],
          "name": "stdout"
        }
      ]
    },
    {
      "cell_type": "markdown",
      "metadata": {
        "id": "1tmQeoA8tX7i"
      },
      "source": [
        "16. \n",
        "\n",
        "\n",
        "import numpy\n",
        "\n",
        "sampleArray = numpy.array([[11 ,22, 33], [44, 55, 66], [77, 88, 99]])"
      ]
    },
    {
      "cell_type": "code",
      "metadata": {
        "id": "EnslDMfLtZy_",
        "outputId": "25fed65b-ca02-4ac6-98d2-9c320c9988a2",
        "colab": {
          "base_uri": "https://localhost:8080/"
        }
      },
      "source": [
        "import numpy as np\n",
        "\n",
        "sampleArray = np.array([[11 ,22, 33], [44, 55, 66], [77, 88, 99]])\n",
        "print(sampleArray[:,2])\n"
      ],
      "execution_count": null,
      "outputs": [
        {
          "output_type": "stream",
          "text": [
            "[33 66 99]\n"
          ],
          "name": "stdout"
        }
      ]
    },
    {
      "cell_type": "markdown",
      "metadata": {
        "id": "8dkP3iQQxnmr"
      },
      "source": [
        "17"
      ]
    },
    {
      "cell_type": "code",
      "metadata": {
        "id": "Hd8gYh2kxpZI",
        "outputId": "dfeb7e8f-76c2-45e0-8db1-36f6d51229b2",
        "colab": {
          "base_uri": "https://localhost:8080/"
        }
      },
      "source": [
        "import numpy\n",
        "\n",
        "Array1 = numpy.empty([4,2], dtype = numpy.uint16)\n",
        "print(\"Printing Array\")\n",
        "print(Array1)\n",
        "\n",
        "print(\"Printing numpy array Attributes\")\n",
        "print(\"1). Array Shape is: \", Array1.shape)\n",
        "print(\"2). Array dimensions are \", Array1.ndim)\n",
        "print(\"3). Length of each element of array in bytes is \", Array1.itemsize)"
      ],
      "execution_count": null,
      "outputs": [
        {
          "output_type": "stream",
          "text": [
            "Printing Array\n",
            "[[ 7280   631]\n",
            " [    0     0]\n",
            " [42688  1033]\n",
            " [    0     0]]\n",
            "Printing numpy array Attributes\n",
            "1). Array Shape is:  (4, 2)\n",
            "2). Array dimensions are  2\n",
            "3). Length of each element of array in bytes is  2\n"
          ],
          "name": "stdout"
        }
      ]
    }
  ]
}